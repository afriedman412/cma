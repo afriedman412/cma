{
 "cells": [
  {
   "cell_type": "code",
   "execution_count": 124,
   "id": "5e815c08",
   "metadata": {},
   "outputs": [],
   "source": [
    "from tkinter import ttk\n",
    "import tkinter as tk\n",
    "import sqlite3\n",
    "\n",
    "import pandas as pd"
   ]
  },
  {
   "cell_type": "code",
   "execution_count": 1,
   "id": "65e44358",
   "metadata": {},
   "outputs": [
    {
     "ename": "SyntaxError",
     "evalue": "invalid syntax (2707403354.py, line 1)",
     "output_type": "error",
     "traceback": [
      "\u001b[0;36m  Input \u001b[0;32mIn [1]\u001b[0;36m\u001b[0m\n\u001b[0;31m    {/Users/af412/Downloads/musicdump/Thast ft Plies/Unknown Album/Gucci Bag (Remix).mp3}\u001b[0m\n\u001b[0m     ^\u001b[0m\n\u001b[0;31mSyntaxError\u001b[0m\u001b[0;31m:\u001b[0m invalid syntax\n"
     ]
    }
   ],
   "source": [
    "{/Users/af412/Downloads/musicdump/Thast ft Plies/Unknown Album/Gucci Bag (Remix).mp3}\n"
   ]
  },
  {
   "cell_type": "code",
   "execution_count": 106,
   "id": "7e68102b",
   "metadata": {},
   "outputs": [],
   "source": [
    "path = \"/Users/af412/.config/beets/library.db\""
   ]
  },
  {
   "cell_type": "code",
   "execution_count": 107,
   "id": "d19b0435",
   "metadata": {},
   "outputs": [],
   "source": [
    "conn = sqlite3.connect(path)\n",
    "cur = conn.cursor()"
   ]
  },
  {
   "cell_type": "code",
   "execution_count": 134,
   "id": "6f4a3529",
   "metadata": {},
   "outputs": [],
   "source": [
    "def get_columns(table, cur=cur):\n",
    "    return [c for c in cur.execute(f\"PRAGMA table_info([{table}]);\")]\n",
    "\n",
    "def get_table(table='items', cur=cur):\n",
    "    return [i for i in cur.execute(f\"SELECT * FROM {table}\")]"
   ]
  },
  {
   "cell_type": "code",
   "execution_count": 127,
   "id": "19b5b48c",
   "metadata": {},
   "outputs": [],
   "source": [
    "columns = get_columns('items')"
   ]
  },
  {
   "cell_type": "code",
   "execution_count": null,
   "id": "565561a8",
   "metadata": {},
   "outputs": [],
   "source": [
    "root = tk.Tk()\n",
    "my_tree = ttk.Treeview(root)\n",
    "my_tree['columns'] = tuple([c[1] for c in columns])\n",
    "\n",
    "for c in [c[1] for c in columns]:\n",
    "    my_tree.column(c, anchor=tk.CENTER)\n",
    "    my_tree.heading(c, text=c)\n",
    "    \n",
    "my_tree.pack()\n",
    "\n",
    "button1 = tk.Button(text=\"Display data\", command=get_table)\n",
    "button1.pack(pady=10)\n",
    "root.mainloop()"
   ]
  },
  {
   "cell_type": "code",
   "execution_count": 130,
   "id": "9d17768d",
   "metadata": {},
   "outputs": [
    {
     "data": {
      "text/plain": [
       "((0, 'id', 'INTEGER', 0, None, 1),\n",
       " (1, 'path', 'BLOB', 0, None, 0),\n",
       " (2, 'album_id', 'INTEGER', 0, None, 0),\n",
       " (3, 'title', 'TEXT', 0, None, 0),\n",
       " (4, 'artist', 'TEXT', 0, None, 0),\n",
       " (5, 'artist_sort', 'TEXT', 0, None, 0),\n",
       " (6, 'artist_credit', 'TEXT', 0, None, 0),\n",
       " (7, 'album', 'TEXT', 0, None, 0),\n",
       " (8, 'albumartist', 'TEXT', 0, None, 0),\n",
       " (9, 'albumartist_sort', 'TEXT', 0, None, 0),\n",
       " (10, 'albumartist_credit', 'TEXT', 0, None, 0),\n",
       " (11, 'genre', 'TEXT', 0, None, 0),\n",
       " (12, 'style', 'TEXT', 0, None, 0),\n",
       " (13, 'discogs_albumid', 'INTEGER', 0, None, 0),\n",
       " (14, 'discogs_artistid', 'INTEGER', 0, None, 0),\n",
       " (15, 'discogs_labelid', 'INTEGER', 0, None, 0),\n",
       " (16, 'lyricist', 'TEXT', 0, None, 0),\n",
       " (17, 'composer', 'TEXT', 0, None, 0),\n",
       " (18, 'composer_sort', 'TEXT', 0, None, 0),\n",
       " (19, 'work', 'TEXT', 0, None, 0),\n",
       " (20, 'mb_workid', 'TEXT', 0, None, 0),\n",
       " (21, 'work_disambig', 'TEXT', 0, None, 0),\n",
       " (22, 'arranger', 'TEXT', 0, None, 0),\n",
       " (23, 'grouping', 'TEXT', 0, None, 0),\n",
       " (24, 'year', 'INTEGER', 0, None, 0),\n",
       " (25, 'month', 'INTEGER', 0, None, 0),\n",
       " (26, 'day', 'INTEGER', 0, None, 0),\n",
       " (27, 'track', 'INTEGER', 0, None, 0),\n",
       " (28, 'tracktotal', 'INTEGER', 0, None, 0),\n",
       " (29, 'disc', 'INTEGER', 0, None, 0),\n",
       " (30, 'disctotal', 'INTEGER', 0, None, 0),\n",
       " (31, 'lyrics', 'TEXT', 0, None, 0),\n",
       " (32, 'comments', 'TEXT', 0, None, 0),\n",
       " (33, 'bpm', 'INTEGER', 0, None, 0),\n",
       " (34, 'comp', 'INTEGER', 0, None, 0),\n",
       " (35, 'mb_trackid', 'TEXT', 0, None, 0),\n",
       " (36, 'mb_albumid', 'TEXT', 0, None, 0),\n",
       " (37, 'mb_artistid', 'TEXT', 0, None, 0),\n",
       " (38, 'mb_albumartistid', 'TEXT', 0, None, 0),\n",
       " (39, 'mb_releasetrackid', 'TEXT', 0, None, 0),\n",
       " (40, 'trackdisambig', 'TEXT', 0, None, 0),\n",
       " (41, 'albumtype', 'TEXT', 0, None, 0),\n",
       " (42, 'albumtypes', 'TEXT', 0, None, 0),\n",
       " (43, 'label', 'TEXT', 0, None, 0),\n",
       " (44, 'acoustid_fingerprint', 'TEXT', 0, None, 0),\n",
       " (45, 'acoustid_id', 'TEXT', 0, None, 0),\n",
       " (46, 'mb_releasegroupid', 'TEXT', 0, None, 0),\n",
       " (47, 'asin', 'TEXT', 0, None, 0),\n",
       " (48, 'isrc', 'TEXT', 0, None, 0),\n",
       " (49, 'catalognum', 'TEXT', 0, None, 0),\n",
       " (50, 'script', 'TEXT', 0, None, 0),\n",
       " (51, 'language', 'TEXT', 0, None, 0),\n",
       " (52, 'country', 'TEXT', 0, None, 0),\n",
       " (53, 'albumstatus', 'TEXT', 0, None, 0),\n",
       " (54, 'media', 'TEXT', 0, None, 0),\n",
       " (55, 'albumdisambig', 'TEXT', 0, None, 0),\n",
       " (56, 'releasegroupdisambig', 'TEXT', 0, None, 0),\n",
       " (57, 'disctitle', 'TEXT', 0, None, 0),\n",
       " (58, 'encoder', 'TEXT', 0, None, 0),\n",
       " (59, 'rg_track_gain', 'REAL', 0, None, 0),\n",
       " (60, 'rg_track_peak', 'REAL', 0, None, 0),\n",
       " (61, 'rg_album_gain', 'REAL', 0, None, 0),\n",
       " (62, 'rg_album_peak', 'REAL', 0, None, 0),\n",
       " (63, 'r128_track_gain', 'INTEGER', 0, None, 0),\n",
       " (64, 'r128_album_gain', 'INTEGER', 0, None, 0),\n",
       " (65, 'original_year', 'INTEGER', 0, None, 0),\n",
       " (66, 'original_month', 'INTEGER', 0, None, 0),\n",
       " (67, 'original_day', 'INTEGER', 0, None, 0),\n",
       " (68, 'initial_key', 'TEXT', 0, None, 0),\n",
       " (69, 'length', 'REAL', 0, None, 0),\n",
       " (70, 'bitrate', 'INTEGER', 0, None, 0),\n",
       " (71, 'format', 'TEXT', 0, None, 0),\n",
       " (72, 'samplerate', 'INTEGER', 0, None, 0),\n",
       " (73, 'bitdepth', 'INTEGER', 0, None, 0),\n",
       " (74, 'channels', 'INTEGER', 0, None, 0),\n",
       " (75, 'mtime', 'REAL', 0, None, 0),\n",
       " (76, 'added', 'REAL', 0, None, 0))"
      ]
     },
     "execution_count": 130,
     "metadata": {},
     "output_type": "execute_result"
    }
   ],
   "source": [
    "tuple(columns)"
   ]
  },
  {
   "cell_type": "code",
   "execution_count": 114,
   "id": "dc12ec7b",
   "metadata": {},
   "outputs": [],
   "source": [
    "col_query = \"PRAGMA table_info([items]);\" # gets columns\n",
    "table_query = \"SELECT name FROM sqlite_master WHERE type = 'table'\""
   ]
  },
  {
   "cell_type": "code",
   "execution_count": 112,
   "id": "252d03bb",
   "metadata": {},
   "outputs": [
    {
     "data": {
      "text/plain": [
       "[('items',), ('item_attributes',), ('albums',), ('album_attributes',)]"
      ]
     },
     "execution_count": 112,
     "metadata": {},
     "output_type": "execute_result"
    }
   ],
   "source": [
    "[a for a in cur.execute(table_query)]"
   ]
  },
  {
   "cell_type": "code",
   "execution_count": 120,
   "id": "1ef01634",
   "metadata": {
    "collapsed": true
   },
   "outputs": [
    {
     "data": {
      "text/plain": [
       "[(0, 'id', 'INTEGER', 0, None, 1),\n",
       " (1, 'path', 'BLOB', 0, None, 0),\n",
       " (2, 'album_id', 'INTEGER', 0, None, 0),\n",
       " (3, 'title', 'TEXT', 0, None, 0),\n",
       " (4, 'artist', 'TEXT', 0, None, 0),\n",
       " (5, 'artist_sort', 'TEXT', 0, None, 0),\n",
       " (6, 'artist_credit', 'TEXT', 0, None, 0),\n",
       " (7, 'album', 'TEXT', 0, None, 0),\n",
       " (8, 'albumartist', 'TEXT', 0, None, 0),\n",
       " (9, 'albumartist_sort', 'TEXT', 0, None, 0),\n",
       " (10, 'albumartist_credit', 'TEXT', 0, None, 0),\n",
       " (11, 'genre', 'TEXT', 0, None, 0),\n",
       " (12, 'style', 'TEXT', 0, None, 0),\n",
       " (13, 'discogs_albumid', 'INTEGER', 0, None, 0),\n",
       " (14, 'discogs_artistid', 'INTEGER', 0, None, 0),\n",
       " (15, 'discogs_labelid', 'INTEGER', 0, None, 0),\n",
       " (16, 'lyricist', 'TEXT', 0, None, 0),\n",
       " (17, 'composer', 'TEXT', 0, None, 0),\n",
       " (18, 'composer_sort', 'TEXT', 0, None, 0),\n",
       " (19, 'work', 'TEXT', 0, None, 0),\n",
       " (20, 'mb_workid', 'TEXT', 0, None, 0),\n",
       " (21, 'work_disambig', 'TEXT', 0, None, 0),\n",
       " (22, 'arranger', 'TEXT', 0, None, 0),\n",
       " (23, 'grouping', 'TEXT', 0, None, 0),\n",
       " (24, 'year', 'INTEGER', 0, None, 0),\n",
       " (25, 'month', 'INTEGER', 0, None, 0),\n",
       " (26, 'day', 'INTEGER', 0, None, 0),\n",
       " (27, 'track', 'INTEGER', 0, None, 0),\n",
       " (28, 'tracktotal', 'INTEGER', 0, None, 0),\n",
       " (29, 'disc', 'INTEGER', 0, None, 0),\n",
       " (30, 'disctotal', 'INTEGER', 0, None, 0),\n",
       " (31, 'lyrics', 'TEXT', 0, None, 0),\n",
       " (32, 'comments', 'TEXT', 0, None, 0),\n",
       " (33, 'bpm', 'INTEGER', 0, None, 0),\n",
       " (34, 'comp', 'INTEGER', 0, None, 0),\n",
       " (35, 'mb_trackid', 'TEXT', 0, None, 0),\n",
       " (36, 'mb_albumid', 'TEXT', 0, None, 0),\n",
       " (37, 'mb_artistid', 'TEXT', 0, None, 0),\n",
       " (38, 'mb_albumartistid', 'TEXT', 0, None, 0),\n",
       " (39, 'mb_releasetrackid', 'TEXT', 0, None, 0),\n",
       " (40, 'trackdisambig', 'TEXT', 0, None, 0),\n",
       " (41, 'albumtype', 'TEXT', 0, None, 0),\n",
       " (42, 'albumtypes', 'TEXT', 0, None, 0),\n",
       " (43, 'label', 'TEXT', 0, None, 0),\n",
       " (44, 'acoustid_fingerprint', 'TEXT', 0, None, 0),\n",
       " (45, 'acoustid_id', 'TEXT', 0, None, 0),\n",
       " (46, 'mb_releasegroupid', 'TEXT', 0, None, 0),\n",
       " (47, 'asin', 'TEXT', 0, None, 0),\n",
       " (48, 'isrc', 'TEXT', 0, None, 0),\n",
       " (49, 'catalognum', 'TEXT', 0, None, 0),\n",
       " (50, 'script', 'TEXT', 0, None, 0),\n",
       " (51, 'language', 'TEXT', 0, None, 0),\n",
       " (52, 'country', 'TEXT', 0, None, 0),\n",
       " (53, 'albumstatus', 'TEXT', 0, None, 0),\n",
       " (54, 'media', 'TEXT', 0, None, 0),\n",
       " (55, 'albumdisambig', 'TEXT', 0, None, 0),\n",
       " (56, 'releasegroupdisambig', 'TEXT', 0, None, 0),\n",
       " (57, 'disctitle', 'TEXT', 0, None, 0),\n",
       " (58, 'encoder', 'TEXT', 0, None, 0),\n",
       " (59, 'rg_track_gain', 'REAL', 0, None, 0),\n",
       " (60, 'rg_track_peak', 'REAL', 0, None, 0),\n",
       " (61, 'rg_album_gain', 'REAL', 0, None, 0),\n",
       " (62, 'rg_album_peak', 'REAL', 0, None, 0),\n",
       " (63, 'r128_track_gain', 'INTEGER', 0, None, 0),\n",
       " (64, 'r128_album_gain', 'INTEGER', 0, None, 0),\n",
       " (65, 'original_year', 'INTEGER', 0, None, 0),\n",
       " (66, 'original_month', 'INTEGER', 0, None, 0),\n",
       " (67, 'original_day', 'INTEGER', 0, None, 0),\n",
       " (68, 'initial_key', 'TEXT', 0, None, 0),\n",
       " (69, 'length', 'REAL', 0, None, 0),\n",
       " (70, 'bitrate', 'INTEGER', 0, None, 0),\n",
       " (71, 'format', 'TEXT', 0, None, 0),\n",
       " (72, 'samplerate', 'INTEGER', 0, None, 0),\n",
       " (73, 'bitdepth', 'INTEGER', 0, None, 0),\n",
       " (74, 'channels', 'INTEGER', 0, None, 0),\n",
       " (75, 'mtime', 'REAL', 0, None, 0),\n",
       " (76, 'added', 'REAL', 0, None, 0)]"
      ]
     },
     "execution_count": 120,
     "metadata": {},
     "output_type": "execute_result"
    }
   ],
   "source": [
    "get_cols('items')"
   ]
  },
  {
   "cell_type": "code",
   "execution_count": 121,
   "id": "c7f5da86",
   "metadata": {},
   "outputs": [],
   "source": [
    "songs = [i for i in cur.execute(\"select * from items\")]"
   ]
  },
  {
   "cell_type": "code",
   "execution_count": 123,
   "id": "472a4e19",
   "metadata": {},
   "outputs": [
    {
     "data": {
      "text/plain": [
       "(1,\n",
       " b'/Users/af412/Music/Non-Album/Track 02.mp3',\n",
       " None,\n",
       " 'Track 02',\n",
       " '',\n",
       " '',\n",
       " '',\n",
       " '',\n",
       " '',\n",
       " '',\n",
       " '',\n",
       " '',\n",
       " '',\n",
       " 0,\n",
       " 0,\n",
       " 0,\n",
       " '',\n",
       " '',\n",
       " '',\n",
       " '',\n",
       " '',\n",
       " '',\n",
       " '',\n",
       " '',\n",
       " 0,\n",
       " 0,\n",
       " 0,\n",
       " 2,\n",
       " 5,\n",
       " 0,\n",
       " 0,\n",
       " '',\n",
       " '',\n",
       " 0,\n",
       " 0,\n",
       " '',\n",
       " '',\n",
       " '',\n",
       " '',\n",
       " '',\n",
       " '',\n",
       " '',\n",
       " '[]',\n",
       " '',\n",
       " '',\n",
       " '',\n",
       " '',\n",
       " '',\n",
       " '',\n",
       " '',\n",
       " '',\n",
       " '',\n",
       " '',\n",
       " '',\n",
       " '',\n",
       " '',\n",
       " '',\n",
       " '',\n",
       " 'iTunes 11.2',\n",
       " -4.06,\n",
       " 1.12439,\n",
       " None,\n",
       " None,\n",
       " None,\n",
       " None,\n",
       " 0,\n",
       " 0,\n",
       " 0,\n",
       " None,\n",
       " 203.729,\n",
       " 192000,\n",
       " 'MP3',\n",
       " 44100,\n",
       " 0,\n",
       " 2,\n",
       " 1400433830.0,\n",
       " 1667181792.891309)"
      ]
     },
     "execution_count": 123,
     "metadata": {},
     "output_type": "execute_result"
    }
   ],
   "source": [
    "songs[0]"
   ]
  },
  {
   "cell_type": "code",
   "execution_count": null,
   "id": "41007290",
   "metadata": {},
   "outputs": [],
   "source": [
    "\n",
    "\n",
    "# reading all table names\n",
    "table_list = [a for a in cur.execute(\"SELECT name FROM sqlite_master WHERE type = 'table'\")]\n",
    "# here is you table list\n",
    "print(table_list)\n"
   ]
  },
  {
   "cell_type": "code",
   "execution_count": 38,
   "id": "6050c7d9",
   "metadata": {},
   "outputs": [],
   "source": [
    "from flask_sqlalchemy import SQLAlchemy"
   ]
  },
  {
   "cell_type": "code",
   "execution_count": 95,
   "id": "f3bdcdfc",
   "metadata": {},
   "outputs": [],
   "source": [
    "db = SQLAlchemy()\n",
    "\n",
    "class TableFactory:\n",
    "    def __init__(self, db):\n",
    "        self.db = db\n",
    "    \n",
    "    def col_factory(\n",
    "        self, \n",
    "        name: str,\n",
    "        col: tuple):\n",
    "        col_ = getattr(self.db, *col)\n",
    "        return self.db.Column(name, col_)\n",
    "    \n",
    "    def table_factory(\n",
    "        self, \n",
    "        name: str,\n",
    "        cols: dict,\n",
    "        pk: bool=True\n",
    "    ):\n",
    "        class_ = self.db.Model\n",
    "        class_.__tablename__ = name\n",
    "        if pk:\n",
    "            class_.id = db.Column(\"id\", db.Integer, primary_key=True)\n",
    "            \n",
    "        for k,v in cols.items():\n",
    "            print(k)\n",
    "            setattr(class_, k, self.col_factory(k, v[0]))\n",
    "            \n",
    "        new_table = type(name, (class_,), {})\n",
    "        return new_table"
   ]
  },
  {
   "cell_type": "code",
   "execution_count": 96,
   "id": "de568fe0",
   "metadata": {},
   "outputs": [],
   "source": [
    "tf = TableFactory(db)"
   ]
  },
  {
   "cell_type": "code",
   "execution_count": 97,
   "id": "74d06d76",
   "metadata": {},
   "outputs": [],
   "source": [
    "test_columns = {\n",
    "    'song_title': [('String', 240)],\n",
    "    'primary_artist': [('String', 240)],\n",
    "    'track_number': [('Integer', None)],\n",
    "    \n",
    "}"
   ]
  },
  {
   "cell_type": "code",
   "execution_count": 98,
   "id": "2e80a9c5",
   "metadata": {},
   "outputs": [
    {
     "name": "stdout",
     "output_type": "stream",
     "text": [
      "song_title\n",
      "primary_artist\n",
      "track_number\n"
     ]
    }
   ],
   "source": [
    "songs = tf.table_factory('songs', test_columns)"
   ]
  },
  {
   "cell_type": "code",
   "execution_count": 99,
   "id": "822aa114",
   "metadata": {},
   "outputs": [
    {
     "data": {
      "text/plain": [
       "__main__.songs"
      ]
     },
     "execution_count": 99,
     "metadata": {},
     "output_type": "execute_result"
    }
   ],
   "source": [
    "songs"
   ]
  },
  {
   "cell_type": "code",
   "execution_count": 56,
   "id": "05abb1e1",
   "metadata": {},
   "outputs": [],
   "source": [
    "db = SQLAlchemy()\n",
    "\n",
    "def column_factory(name, type_, **kwargs):\n",
    "    return db.Column(name, getattr(db, type_), **kwargs)\n",
    "\n",
    "def table_factory(\n",
    "    name: str, \n",
    "    args: dict, \n",
    "    class_=db.Model):\n",
    "    \n",
    "    class_.__tablename__ = name\n",
    "    class_.id = db.Column(\"id\", db.Integer, primary_key=True)\n",
    "    \n",
    "    for key, value in args.items():\n",
    "        if key not in args:\n",
    "            raise TypeError(f\"Argument {key} not valid for {self.__class__.__name__}\")\n",
    "        setattr(class_, key, value)\n",
    "    newclass = type(name, (class_,),{'__tablename__': name})\n",
    "    return newclass"
   ]
  },
  {
   "cell_type": "code",
   "execution_count": 57,
   "id": "389a7daa",
   "metadata": {},
   "outputs": [],
   "source": [
    "TTT = table_factory(\n",
    "    'TTT', \n",
    "    {\n",
    "        'song_title': db.Column('song_title', db.String(240)),\n",
    "        'primary_artist': db.Column('primary_artist', db.String(240))\n",
    "    })"
   ]
  },
  {
   "cell_type": "code",
   "execution_count": 60,
   "id": "e553994f",
   "metadata": {},
   "outputs": [
    {
     "data": {
      "text/plain": [
       "['__add__',\n",
       " '__and__',\n",
       " '__annotations__',\n",
       " '__class__',\n",
       " '__class_getitem__',\n",
       " '__clause_element__',\n",
       " '__contains__',\n",
       " '__delattr__',\n",
       " '__delete__',\n",
       " '__dict__',\n",
       " '__dir__',\n",
       " '__div__',\n",
       " '__doc__',\n",
       " '__eq__',\n",
       " '__format__',\n",
       " '__ge__',\n",
       " '__get__',\n",
       " '__getattr__',\n",
       " '__getattribute__',\n",
       " '__getitem__',\n",
       " '__gt__',\n",
       " '__hash__',\n",
       " '__init__',\n",
       " '__init_subclass__',\n",
       " '__invert__',\n",
       " '__le__',\n",
       " '__lshift__',\n",
       " '__lt__',\n",
       " '__mod__',\n",
       " '__module__',\n",
       " '__mul__',\n",
       " '__ne__',\n",
       " '__neg__',\n",
       " '__new__',\n",
       " '__or__',\n",
       " '__orig_bases__',\n",
       " '__parameters__',\n",
       " '__radd__',\n",
       " '__rdiv__',\n",
       " '__reduce__',\n",
       " '__reduce_ex__',\n",
       " '__repr__',\n",
       " '__rmod__',\n",
       " '__rmul__',\n",
       " '__rshift__',\n",
       " '__rsub__',\n",
       " '__rtruediv__',\n",
       " '__set__',\n",
       " '__setattr__',\n",
       " '__sizeof__',\n",
       " '__slots__',\n",
       " '__str__',\n",
       " '__sub__',\n",
       " '__subclasshook__',\n",
       " '__truediv__',\n",
       " '__visit_name__',\n",
       " '__weakref__',\n",
       " '_adapt_to_entity',\n",
       " '_annotations',\n",
       " '_assert_no_memoizations',\n",
       " '_bulk_update_tuples',\n",
       " '_cache_key_traversal',\n",
       " '_clone',\n",
       " '_copy_internals',\n",
       " '_entity_namespace',\n",
       " '_extra_criteria',\n",
       " '_from_objects',\n",
       " '_gen_cache_key',\n",
       " '_generate_cache_attrs',\n",
       " '_generate_cache_key',\n",
       " '_generate_cache_key_for_object',\n",
       " '_hierarchy_supports_caching',\n",
       " '_impl_uses_objects',\n",
       " '_is_has_cache_key',\n",
       " '_is_immutable',\n",
       " '_is_internal_proxy',\n",
       " '_is_protocol',\n",
       " '_memoized_keys',\n",
       " '_of_type',\n",
       " '_parententity',\n",
       " '_parentmapper',\n",
       " '_post_inspect',\n",
       " '_propagate_attrs',\n",
       " '_rconcat',\n",
       " '_reset_memoizations',\n",
       " '_role_name',\n",
       " '_set_memoized_attribute',\n",
       " '_supports_population',\n",
       " 'adapt_to_entity',\n",
       " 'adapter',\n",
       " 'all_',\n",
       " 'allows_lambda',\n",
       " 'and_',\n",
       " 'any',\n",
       " 'any_',\n",
       " 'any_op',\n",
       " 'asc',\n",
       " 'between',\n",
       " 'bool_op',\n",
       " 'class_',\n",
       " 'collate',\n",
       " 'comparator',\n",
       " 'concat',\n",
       " 'contains',\n",
       " 'desc',\n",
       " 'dispatch',\n",
       " 'distinct',\n",
       " 'endswith',\n",
       " 'expression',\n",
       " 'extension_type',\n",
       " 'get_history',\n",
       " 'has',\n",
       " 'has_op',\n",
       " 'hasparent',\n",
       " 'ilike',\n",
       " 'impl',\n",
       " 'in_',\n",
       " 'info',\n",
       " 'inherit_cache',\n",
       " 'is_',\n",
       " 'is_aliased_class',\n",
       " 'is_attribute',\n",
       " 'is_bundle',\n",
       " 'is_clause_element',\n",
       " 'is_distinct_from',\n",
       " 'is_instance',\n",
       " 'is_mapper',\n",
       " 'is_not',\n",
       " 'is_not_distinct_from',\n",
       " 'is_property',\n",
       " 'is_selectable',\n",
       " 'isnot',\n",
       " 'isnot_distinct_from',\n",
       " 'key',\n",
       " 'label',\n",
       " 'like',\n",
       " 'match',\n",
       " 'memoized_attribute',\n",
       " 'memoized_instancemethod',\n",
       " 'not_ilike',\n",
       " 'not_in',\n",
       " 'not_like',\n",
       " 'notilike',\n",
       " 'notin_',\n",
       " 'notlike',\n",
       " 'nulls_first',\n",
       " 'nulls_last',\n",
       " 'nullsfirst',\n",
       " 'nullslast',\n",
       " 'of_type',\n",
       " 'of_type_op',\n",
       " 'op',\n",
       " 'operate',\n",
       " 'params',\n",
       " 'parent',\n",
       " 'prop',\n",
       " 'property',\n",
       " 'regexp_match',\n",
       " 'regexp_replace',\n",
       " 'reverse_operate',\n",
       " 'startswith',\n",
       " 'timetuple',\n",
       " 'unique_params',\n",
       " 'uses_inspection']"
      ]
     },
     "execution_count": 60,
     "metadata": {},
     "output_type": "execute_result"
    }
   ],
   "source": [
    "dir(TTT.song_title)"
   ]
  },
  {
   "cell_type": "code",
   "execution_count": 8,
   "id": "d1476acf",
   "metadata": {},
   "outputs": [],
   "source": [
    "class TTT(db.Model):\n",
    "    __tablename__ = \"testo\"\n",
    "    id = db.Column(\"id\", db.Integer, primary_key=True)"
   ]
  },
  {
   "cell_type": "code",
   "execution_count": 10,
   "id": "d9304a7e",
   "metadata": {},
   "outputs": [],
   "source": [
    "TTT.boobs = db.Column(\"boobs\", db.Boolean)"
   ]
  },
  {
   "cell_type": "code",
   "execution_count": 22,
   "id": "e1f19d57",
   "metadata": {},
   "outputs": [
    {
     "data": {
      "text/plain": [
       "sqlalchemy.sql.sqltypes.String"
      ]
     },
     "execution_count": 22,
     "metadata": {},
     "output_type": "execute_result"
    }
   ],
   "source": [
    "getattr(db, 'String')"
   ]
  },
  {
   "cell_type": "code",
   "execution_count": 24,
   "id": "8444363d",
   "metadata": {},
   "outputs": [],
   "source": [
    "setattr(\n",
    "    TTT, \n",
    "    'song_title',\n",
    "    db.Column('song_title', getattr(db, 'String', 240)))"
   ]
  },
  {
   "cell_type": "code",
   "execution_count": 26,
   "id": "d158cc38",
   "metadata": {},
   "outputs": [
    {
     "data": {
      "text/plain": [
       "<sqlalchemy.orm.attributes.InstrumentedAttribute at 0x110473b00>"
      ]
     },
     "execution_count": 26,
     "metadata": {},
     "output_type": "execute_result"
    }
   ],
   "source": [
    "TTT.song_title"
   ]
  },
  {
   "cell_type": "code",
   "execution_count": null,
   "id": "c833e9d9",
   "metadata": {},
   "outputs": [],
   "source": [
    "track_cols = [\n",
    "    ('song_title', 'primary_artist', 'release_title', 'track_number', 'primary_artist_mb_id', 'release_mb_id'),\n",
    "    ('String', 'String', 'String', 'Integer', 'String', 'String')\n",
    "]"
   ]
  },
  {
   "cell_type": "code",
   "execution_count": null,
   "id": "eb8e5ecd",
   "metadata": {},
   "outputs": [],
   "source": [
    "def table_factory(db: SQLAlchemy, name: str, columns: dict):\n",
    "    \n",
    "    \n",
    "    "
   ]
  },
  {
   "cell_type": "code",
   "execution_count": null,
   "id": "aa82b2d8",
   "metadata": {},
   "outputs": [],
   "source": [
    "# class Song(db_.Model):\n",
    "#     __tablename__ = 'song'\n",
    "#     id = db_.Column(\"id\", db_.Integer, primary_key=True)\n",
    "#     song_spotify_id = db_.Column(\"song_spotify_id\", db_.String(240))\n",
    "#     song_name = db_.Column(\"song_name\", db_.String(100))\n",
    "#     artist_spotify_id = db_.Column(\"artist_spotify_id\", db_.String(240), db_.ForeignKey(\"artist.spotify_id\"))\n",
    "#     artist_name = db_.Column(db_.String(100))\n",
    "#     primary = db_.Column(db_.Boolean)\n",
    "\n",
    "#     def __repr__(self):\n",
    "#         return f'<{self.__tablename__.title()} {self.song_name}>'\n",
    "\n",
    "#     def __init__(self, song_name, song_spotify_id, artist_name, artist_spotify_id, primary=False):\n",
    "#         self.song_name = song_name\n",
    "#         self.song_spotify_id = song_spotify_id\n",
    "#         self.artist_name = artist_name\n",
    "#         self.artist_spotify_id = artist_spotify_id\n",
    "#         self.primary = primary"
   ]
  },
  {
   "cell_type": "code",
   "execution_count": null,
   "id": "2f28e528",
   "metadata": {},
   "outputs": [],
   "source": []
  }
 ],
 "metadata": {
  "kernelspec": {
   "display_name": "Python 3 (ipykernel)",
   "language": "python",
   "name": "python3"
  },
  "language_info": {
   "codemirror_mode": {
    "name": "ipython",
    "version": 3
   },
   "file_extension": ".py",
   "mimetype": "text/x-python",
   "name": "python",
   "nbconvert_exporter": "python",
   "pygments_lexer": "ipython3",
   "version": "3.10.4"
  }
 },
 "nbformat": 4,
 "nbformat_minor": 5
}
