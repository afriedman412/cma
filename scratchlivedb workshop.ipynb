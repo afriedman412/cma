{
 "cells": [
  {
   "cell_type": "code",
   "execution_count": 1,
   "id": "76b519b7",
   "metadata": {},
   "outputs": [],
   "source": [
    "from scratchlivedb.scratchdb import (ScratchParseError,\n",
    "                                     ScratchCrate,\n",
    "                                     ScratchDatabase)"
   ]
  },
  {
   "cell_type": "code",
   "execution_count": 2,
   "id": "50284fa0",
   "metadata": {},
   "outputs": [],
   "source": [
    "db_path = \"/Users/af412/Music/_Serato_/database V2\""
   ]
  },
  {
   "cell_type": "code",
   "execution_count": 4,
   "id": "3ebe8f49",
   "metadata": {},
   "outputs": [],
   "source": [
    "db = ScratchDatabase(db_path)"
   ]
  },
  {
   "cell_type": "code",
   "execution_count": 5,
   "id": "67eef985",
   "metadata": {},
   "outputs": [
    {
     "data": {
      "text/plain": [
       "<scratchlivedb.scratchdb.ScratchDatabase at 0x110d1e500>"
      ]
     },
     "execution_count": 5,
     "metadata": {},
     "output_type": "execute_result"
    }
   ],
   "source": [
    "db"
   ]
  },
  {
   "cell_type": "code",
   "execution_count": 6,
   "id": "80c40bb2",
   "metadata": {},
   "outputs": [
    {
     "data": {
      "text/plain": [
       "[]"
      ]
     },
     "execution_count": 6,
     "metadata": {},
     "output_type": "execute_result"
    }
   ],
   "source": [
    "db._parse_entries()"
   ]
  },
  {
   "cell_type": "code",
   "execution_count": 8,
   "id": "82f37814",
   "metadata": {},
   "outputs": [
    {
     "ename": "UnicodeDecodeError",
     "evalue": "'utf-8' codec can't decode byte 0xa2 in position 101: invalid start byte",
     "output_type": "error",
     "traceback": [
      "\u001b[0;31m---------------------------------------------------------------------------\u001b[0m",
      "\u001b[0;31mUnicodeDecodeError\u001b[0m                        Traceback (most recent call last)",
      "Input \u001b[0;32mIn [8]\u001b[0m, in \u001b[0;36m<cell line: 1>\u001b[0;34m()\u001b[0m\n\u001b[0;32m----> 1\u001b[0m \u001b[43mdb\u001b[49m\u001b[38;5;241;43m.\u001b[39;49m\u001b[43mget_final_content\u001b[49m\u001b[43m(\u001b[49m\u001b[43m)\u001b[49m\u001b[38;5;241;43m.\u001b[39;49m\u001b[43mdecode\u001b[49m\u001b[43m(\u001b[49m\u001b[43m)\u001b[49m\n",
      "\u001b[0;31mUnicodeDecodeError\u001b[0m: 'utf-8' codec can't decode byte 0xa2 in position 101: invalid start byte"
     ]
    }
   ],
   "source": [
    "db.get_final_content()"
   ]
  },
  {
   "cell_type": "code",
   "execution_count": 9,
   "id": "96192964",
   "metadata": {},
   "outputs": [
    {
     "data": {
      "text/plain": [
       "['__class__',\n",
       " '__delattr__',\n",
       " '__dict__',\n",
       " '__dir__',\n",
       " '__doc__',\n",
       " '__eq__',\n",
       " '__format__',\n",
       " '__ge__',\n",
       " '__getattribute__',\n",
       " '__gt__',\n",
       " '__hash__',\n",
       " '__init__',\n",
       " '__init_subclass__',\n",
       " '__le__',\n",
       " '__lt__',\n",
       " '__module__',\n",
       " '__ne__',\n",
       " '__new__',\n",
       " '__reduce__',\n",
       " '__reduce_ex__',\n",
       " '__repr__',\n",
       " '__setattr__',\n",
       " '__sizeof__',\n",
       " '__str__',\n",
       " '__subclasshook__',\n",
       " '__weakref__',\n",
       " '_content',\n",
       " '_parse_entries',\n",
       " 'entries',\n",
       " 'filename',\n",
       " 'get_final_content',\n",
       " 'header',\n",
       " 'make_entry']"
      ]
     },
     "execution_count": 9,
     "metadata": {},
     "output_type": "execute_result"
    }
   ],
   "source": [
    "dir(db)"
   ]
  },
  {
   "cell_type": "code",
   "execution_count": null,
   "id": "5119b132",
   "metadata": {},
   "outputs": [],
   "source": []
  }
 ],
 "metadata": {
  "kernelspec": {
   "display_name": "Python 3 (ipykernel)",
   "language": "python",
   "name": "python3"
  },
  "language_info": {
   "codemirror_mode": {
    "name": "ipython",
    "version": 3
   },
   "file_extension": ".py",
   "mimetype": "text/x-python",
   "name": "python",
   "nbconvert_exporter": "python",
   "pygments_lexer": "ipython3",
   "version": "3.10.4"
  }
 },
 "nbformat": 4,
 "nbformat_minor": 5
}
