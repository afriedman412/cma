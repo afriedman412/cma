{
 "cells": [
  {
   "cell_type": "code",
   "execution_count": 14,
   "id": "a8b2ab6b",
   "metadata": {},
   "outputs": [],
   "source": [
    "from Serato_lib.SeratoLib import Crate"
   ]
  },
  {
   "cell_type": "code",
   "execution_count": 17,
   "id": "d5958dea",
   "metadata": {
    "collapsed": true
   },
   "outputs": [
    {
     "ename": "SSLCrateError",
     "evalue": "Unable to open b'vrsn\\x00\\x00\\x008\\x001\\x00.\\x000\\x00/\\x00S\\x00e\\x00r\\x00a\\x00t\\x00o\\x00 \\x00S\\x00c\\x00r\\x00a\\x00t\\x00c\\x00h\\x00L\\x00i\\x00v\\x00e\\x00 \\x00C\\x00r\\x00a\\x00t\\x00eosrt\\x00\\x00\\x00\\x13tvcn\\x00\\x00\\x00\\x02\\x00#brev\\x00\\x00\\x00\\x01\\x00ovct\\x00\\x00\\x00\\x1atvcn\\x00\\x00\\x00\\x08\\x00s\\x00o\\x00n\\x00gtvcw\\x00\\x00\\x00\\x02\\x000ovct\\x00\\x00\\x00$tvcn\\x00\\x00\\x00\\x12\\x00p\\x00l\\x00a\\x00y\\x00C\\x00o\\x00u\\x00n\\x00ttvcw\\x00\\x00\\x00\\x02\\x000ovct\\x00\\x00\\x00\\x1etvcn\\x00\\x00\\x00\\x0c\\x00a\\x00r\\x00t\\x00i\\x00s\\x00ttvcw\\x00\\x00\\x00\\x02\\x000ovct\\x00\\x00\\x00\\x18tvcn\\x00\\x00\\x00\\x06\\x00b\\x00p\\x00mtvcw\\x00\\x00\\x00\\x02\\x000ovct\\x00\\x00\\x00\\x1ctvcn\\x00\\x00\\x00\\n\\x00a\\x00l\\x00b\\x00u\\x00mtvcw\\x00\\x00\\x00\\x02\\x000ovct\\x00\\x00\\x00\\x1etvcn\\x00\\x00\\x00\\x0c\\x00l\\x00e\\x00n\\x00g\\x00t\\x00htvcw\\x00\\x00\\x00\\x02\\x000ovct\\x00\\x00\\x00 tvcn\\x00\\x00\\x00\\x0e\\x00c\\x00o\\x00m\\x00m\\x00e\\x00n\\x00ttvcw\\x00\\x00\\x00\\x02\\x000otrk\\x00\\x00\\x00\\xaeptrk\\x00\\x00\\x00\\xa6\\x00U\\x00s\\x00e\\x00r\\x00s\\x00/\\x00a\\x00f\\x004\\x001\\x002\\x00/\\x00D\\x00o\\x00w\\x00n\\x00l\\x00o\\x00a\\x00d\\x00s\\x00/\\x00m\\x00u\\x00s\\x00i\\x00c\\x00d\\x00u\\x00m\\x00p\\x00/\\x001\\x002\\x00 \\x00G\\x00u\\x00a\\x00g\\x00e\\x00/\\x00U\\x00n\\x00k\\x00n\\x00o\\x00w\\x00n\\x00 \\x00A\\x00l\\x00b\\x00u\\x00m\\x00/\\x00D\\x00o\\x00n\\x00k\\x00e\\x00y\\x00 \\x00B\\x00u\\x00t\\x00t\\x00 \\x00M\\x00A\\x00K\\x00E\\x00 \\x00A\\x00N\\x00 \\x00E\\x00D\\x00I\\x00T\\x00.\\x00m\\x00p\\x003otrk\\x00\\x00\\x01\\x14ptrk\\x00\\x00\\x01\\x0c\\x00U\\x00s\\x00e\\x00r\\x00s\\x00/\\x00a\\x00f\\x004\\x001\\x002\\x00/\\x00M\\x00u\\x00s\\x00i\\x00c\\x00/\\x00M\\x00u\\x00s\\x00i\\x00c\\x00/\\x00M\\x00e\\x00d\\x00i\\x00a\\x00/\\x00M\\x00u\\x00s\\x00i\\x00c\\x00/\\x00C\\x00o\\x00m\\x00p\\x00i\\x00l\\x00a\\x00t\\x00i\\x00o\\x00n\\x00s\\x00/\\x00G\\x00h\\x00e\\x00t\\x00t\\x00o\\x00u\\x00t\\x00_\\x00 \\x00F\\x00u\\x00n\\x00e\\x00r\\x00a\\x00l\\x00s\\x00 \\x00&\\x00 \\x00C\\x00o\\x00u\\x00r\\x00t\\x00 \\x00D\\x00a\\x00t\\x00e\\x00s\\x00 \\x002\\x00/\\x000\\x003\\x00 \\x00S\\x00B\\x004\\x00L\\x00i\\x00f\\x00e\\x00 \\x00f\\x00e\\x00a\\x00t\\x00.\\x00 \\x00D\\x00o\\x00n\\x00 \\x00T\\x00r\\x00i\\x00p\\x00 \\x00(\\x00P\\x00r\\x00o\\x00d\\x00.\\x00 \\x00b\\x00y\\x00 \\x00T\\x00a\\x00y\\x00 \\x00K\\x00e\\x00i\\x00t\\x00h\\x00)\\x00.\\x00m\\x00p\\x003otrk\\x00\\x00\\x01\\nptrk\\x00\\x00\\x01\\x02\\x00U\\x00s\\x00e\\x00r\\x00s\\x00/\\x00a\\x00f\\x004\\x001\\x002\\x00/\\x00M\\x00u\\x00s\\x00i\\x00c\\x00/\\x00M\\x00u\\x00s\\x00i\\x00c\\x00/\\x00M\\x00e\\x00d\\x00i\\x00a\\x00/\\x00M\\x00u\\x00s\\x00i\\x00c\\x00/\\x00C\\x00o\\x00m\\x00p\\x00i\\x00l\\x00a\\x00t\\x00i\\x00o\\x00n\\x00s\\x00/\\x00G\\x00h\\x00e\\x00t\\x00t\\x00o\\x00u\\x00t\\x00_\\x00 \\x00F\\x00u\\x00n\\x00e\\x00r\\x00a\\x00l\\x00s\\x00 \\x00&\\x00 \\x00C\\x00o\\x00u\\x00r\\x00t\\x00 \\x00D\\x00a\\x00t\\x00e\\x00s\\x00 \\x002\\x00/\\x000\\x005\\x00 \\x001\\x000\\x000\\x00,\\x00 \\x00I\\x00 \\x00S\\x00h\\x00u\\x00t\\x00e\\x00 \\x00p\\x00t\\x00.\\x00 \\x002\\x00 \\x00(\\x00P\\x00r\\x00o\\x00d\\x00.\\x00 \\x00b\\x00y\\x00 \\x00B\\x00a\\x00n\\x00d\\x00p\\x00l\\x00a\\x00y\\x00)\\x00.\\x00m\\x00p\\x003otrk\\x00\\x00\\x00\\x92ptrk\\x00\\x00\\x00\\x8a\\x00U\\x00s\\x00e\\x00r\\x00s\\x00/\\x00a\\x00f\\x004\\x001\\x002\\x00/\\x00M\\x00u\\x00s\\x00i\\x00c\\x00/\\x00T\\x00o\\x00r\\x00i\\x00 \\x00A\\x00m\\x00o\\x00s\\x00/\\x00P\\x00r\\x00e\\x00c\\x00i\\x00o\\x00u\\x00s\\x00 \\x00L\\x00i\\x00t\\x00t\\x00l\\x00e\\x00 \\x00D\\x00i\\x00a\\x00m\\x00o\\x00n\\x00d\\x00s\\x00/\\x000\\x009\\x00 \\x00B\\x00u\\x00t\\x00t\\x00e\\x00r\\x00f\\x00l\\x00y\\x00.\\x00m\\x00p\\x003otrk\\x00\\x00\\x00\\x96ptrk\\x00\\x00\\x00\\x8e\\x00U\\x00s\\x00e\\x00r\\x00s\\x00/\\x00a\\x00f\\x004\\x001\\x002\\x00/\\x00M\\x00u\\x00s\\x00i\\x00c\\x00/\\x00T\\x00h\\x00e\\x00 \\x00S\\x00t\\x00r\\x00o\\x00k\\x00e\\x00s\\x00/\\x00R\\x00o\\x00o\\x00m\\x00 \\x00o\\x00n\\x00 \\x00F\\x00i\\x00r\\x00e\\x00/\\x000\\x005\\x00 \\x00Y\\x00o\\x00u\\x00 \\x00T\\x00a\\x00l\\x00k\\x00 \\x00W\\x00a\\x00y\\x00 \\x00T\\x00o\\x00o\\x00 \\x00M\\x00u\\x00c\\x00h\\x00.\\x00m\\x00p\\x003otrk\\x00\\x00\\x00\\xb4ptrk\\x00\\x00\\x00\\xac\\x00U\\x00s\\x00e\\x00r\\x00s\\x00/\\x00a\\x00f\\x004\\x001\\x002\\x00/\\x00M\\x00u\\x00s\\x00i\\x00c\\x00/\\x00C\\x00o\\x00m\\x00p\\x00i\\x00l\\x00a\\x00t\\x00i\\x00o\\x00n\\x00s\\x00/\\x00T\\x00h\\x00e\\x00 \\x00B\\x00i\\x00g\\x00g\\x00e\\x00s\\x00t\\x00 \\x00R\\x00a\\x00g\\x00g\\x00a\\x00 \\x00D\\x00a\\x00n\\x00c\\x00e\\x00h\\x00a\\x00l\\x00l\\x00 \\x00A\\x00n\\x00t\\x00h\\x00e\\x00m\\x00s\\x00 \\x002\\x000\\x000\\x000\\x00/\\x003\\x004\\x00 \\x00B\\x00u\\x00s\\x00t\\x00 \\x00I\\x00t\\x00.\\x00m\\x00p\\x003otrk\\x00\\x00\\x00vptrk\\x00\\x00\\x00n\\x00U\\x00s\\x00e\\x00r\\x00s\\x00/\\x00a\\x00f\\x004\\x001\\x002\\x00/\\x00M\\x00u\\x00s\\x00i\\x00c\\x00/\\x002\\x001\\x00 \\x00S\\x00a\\x00v\\x00a\\x00g\\x00e\\x00/\\x00I\\x00s\\x00s\\x00a\\x00 \\x00A\\x00l\\x00b\\x00u\\x00m\\x00/\\x000\\x006\\x00 \\x00T\\x00h\\x00u\\x00g\\x00 \\x00L\\x00i\\x00f\\x00e\\x00.\\x00m\\x00p\\x003otrk\\x00\\x00\\x00zptrk\\x00\\x00\\x00r\\x00U\\x00s\\x00e\\x00r\\x00s\\x00/\\x00a\\x00f\\x004\\x001\\x002\\x00/\\x00M\\x00u\\x00s\\x00i\\x00c\\x00/\\x00A\\x00d\\x00d\\x00i\\x00s\\x00o\\x00n\\x00 \\x00G\\x00r\\x00o\\x00o\\x00v\\x00e\\x00/\\x00D\\x00u\\x00m\\x00b\\x00s\\x00h\\x00i\\x00t\\x00/\\x000\\x000\\x00 \\x00D\\x00u\\x00m\\x00b\\x00s\\x00h\\x00i\\x00t\\x00.\\x00m\\x00p\\x003'",
     "output_type": "error",
     "traceback": [
      "\u001b[0;31m---------------------------------------------------------------------------\u001b[0m",
      "\u001b[0;31mValueError\u001b[0m                                Traceback (most recent call last)",
      "File \u001b[0;32m~/Documents/code/case_music_app/Serato_lib/SeratoLib.py:21\u001b[0m, in \u001b[0;36mSSL.read_db_file\u001b[0;34m(self)\u001b[0m\n\u001b[1;32m     20\u001b[0m \u001b[38;5;28;01mtry\u001b[39;00m:\n\u001b[0;32m---> 21\u001b[0m     f \u001b[38;5;241m=\u001b[39m \u001b[38;5;28;43mopen\u001b[39;49m\u001b[43m(\u001b[49m\u001b[38;5;28;43mself\u001b[39;49m\u001b[38;5;241;43m.\u001b[39;49m\u001b[43mcrate_file\u001b[49m\u001b[43m,\u001b[49m\u001b[43m \u001b[49m\u001b[38;5;124;43m\"\u001b[39;49m\u001b[38;5;124;43mr+b\u001b[39;49m\u001b[38;5;124;43m\"\u001b[39;49m\u001b[43m)\u001b[49m\n\u001b[1;32m     22\u001b[0m     log\u001b[38;5;241m.\u001b[39minfo(\u001b[38;5;124m\"\u001b[39m\u001b[38;5;124mReading Serato file \u001b[39m\u001b[38;5;132;01m%s\u001b[39;00m\u001b[38;5;124m\"\u001b[39m \u001b[38;5;241m%\u001b[39m \u001b[38;5;28mself\u001b[39m\u001b[38;5;241m.\u001b[39mcrate_file)\n",
      "\u001b[0;31mValueError\u001b[0m: embedded null byte",
      "\nDuring handling of the above exception, another exception occurred:\n",
      "\u001b[0;31mSSLCrateError\u001b[0m                             Traceback (most recent call last)",
      "Input \u001b[0;32mIn [17]\u001b[0m, in \u001b[0;36m<cell line: 1>\u001b[0;34m()\u001b[0m\n\u001b[0;32m----> 1\u001b[0m c \u001b[38;5;241m=\u001b[39m \u001b[43mCrate\u001b[49m\u001b[43m(\u001b[49m\u001b[38;5;28;43mopen\u001b[39;49m\u001b[43m(\u001b[49m\u001b[43mcrate_path\u001b[49m\u001b[43m,\u001b[49m\u001b[43m \u001b[49m\u001b[38;5;124;43m'\u001b[39;49m\u001b[38;5;124;43mrb\u001b[39;49m\u001b[38;5;124;43m'\u001b[39;49m\u001b[43m)\u001b[49m\u001b[38;5;241;43m.\u001b[39;49m\u001b[43mread\u001b[49m\u001b[43m(\u001b[49m\u001b[43m)\u001b[49m\u001b[43m)\u001b[49m\n",
      "File \u001b[0;32m~/Documents/code/case_music_app/Serato_lib/SeratoLib.py:77\u001b[0m, in \u001b[0;36mCrate.__init__\u001b[0;34m(self, crate_file)\u001b[0m\n\u001b[1;32m     75\u001b[0m \u001b[38;5;28;01mdef\u001b[39;00m \u001b[38;5;21m__init__\u001b[39m(\u001b[38;5;28mself\u001b[39m, crate_file):\n\u001b[1;32m     76\u001b[0m     \u001b[38;5;28mself\u001b[39m\u001b[38;5;241m.\u001b[39mcrate_file \u001b[38;5;241m=\u001b[39m crate_file\n\u001b[0;32m---> 77\u001b[0m     \u001b[43mSSL\u001b[49m\u001b[38;5;241;43m.\u001b[39;49m\u001b[38;5;21;43m__init__\u001b[39;49m\u001b[43m(\u001b[49m\u001b[38;5;28;43mself\u001b[39;49m\u001b[43m)\u001b[49m\n\u001b[1;32m     78\u001b[0m     \u001b[38;5;28mself\u001b[39m\u001b[38;5;241m.\u001b[39mcontents \u001b[38;5;241m=\u001b[39m \u001b[38;5;28mself\u001b[39m\u001b[38;5;241m.\u001b[39m_parse_crate()\n",
      "File \u001b[0;32m~/Documents/code/case_music_app/Serato_lib/SeratoLib.py:14\u001b[0m, in \u001b[0;36mSSL.__init__\u001b[0;34m(self)\u001b[0m\n\u001b[1;32m     13\u001b[0m \u001b[38;5;28;01mdef\u001b[39;00m \u001b[38;5;21m__init__\u001b[39m(\u001b[38;5;28mself\u001b[39m):\n\u001b[0;32m---> 14\u001b[0m     \u001b[38;5;28mself\u001b[39m\u001b[38;5;241m.\u001b[39mssldb \u001b[38;5;241m=\u001b[39m \u001b[38;5;28;43mself\u001b[39;49m\u001b[38;5;241;43m.\u001b[39;49m\u001b[43mread_db_file\u001b[49m\u001b[43m(\u001b[49m\u001b[43m)\u001b[49m\n",
      "File \u001b[0;32m~/Documents/code/case_music_app/Serato_lib/SeratoLib.py:24\u001b[0m, in \u001b[0;36mSSL.read_db_file\u001b[0;34m(self)\u001b[0m\n\u001b[1;32m     22\u001b[0m     log\u001b[38;5;241m.\u001b[39minfo(\u001b[38;5;124m\"\u001b[39m\u001b[38;5;124mReading Serato file \u001b[39m\u001b[38;5;132;01m%s\u001b[39;00m\u001b[38;5;124m\"\u001b[39m \u001b[38;5;241m%\u001b[39m \u001b[38;5;28mself\u001b[39m\u001b[38;5;241m.\u001b[39mcrate_file)\n\u001b[1;32m     23\u001b[0m \u001b[38;5;28;01mexcept\u001b[39;00m:\n\u001b[0;32m---> 24\u001b[0m     \u001b[38;5;28;01mraise\u001b[39;00m SSLCrateError(\u001b[38;5;124m\"\u001b[39m\u001b[38;5;124mUnable to open \u001b[39m\u001b[38;5;132;01m%s\u001b[39;00m\u001b[38;5;124m\"\u001b[39m \u001b[38;5;241m%\u001b[39m \u001b[38;5;28mself\u001b[39m\u001b[38;5;241m.\u001b[39mcrate_file)\n\u001b[1;32m     26\u001b[0m sslmap \u001b[38;5;241m=\u001b[39m mmap\u001b[38;5;241m.\u001b[39mmmap(f\u001b[38;5;241m.\u001b[39mfileno(), \u001b[38;5;241m0\u001b[39m)\n\u001b[1;32m     27\u001b[0m f\u001b[38;5;241m.\u001b[39mclose()\n",
      "\u001b[0;31mSSLCrateError\u001b[0m: Unable to open b'vrsn\\x00\\x00\\x008\\x001\\x00.\\x000\\x00/\\x00S\\x00e\\x00r\\x00a\\x00t\\x00o\\x00 \\x00S\\x00c\\x00r\\x00a\\x00t\\x00c\\x00h\\x00L\\x00i\\x00v\\x00e\\x00 \\x00C\\x00r\\x00a\\x00t\\x00eosrt\\x00\\x00\\x00\\x13tvcn\\x00\\x00\\x00\\x02\\x00#brev\\x00\\x00\\x00\\x01\\x00ovct\\x00\\x00\\x00\\x1atvcn\\x00\\x00\\x00\\x08\\x00s\\x00o\\x00n\\x00gtvcw\\x00\\x00\\x00\\x02\\x000ovct\\x00\\x00\\x00$tvcn\\x00\\x00\\x00\\x12\\x00p\\x00l\\x00a\\x00y\\x00C\\x00o\\x00u\\x00n\\x00ttvcw\\x00\\x00\\x00\\x02\\x000ovct\\x00\\x00\\x00\\x1etvcn\\x00\\x00\\x00\\x0c\\x00a\\x00r\\x00t\\x00i\\x00s\\x00ttvcw\\x00\\x00\\x00\\x02\\x000ovct\\x00\\x00\\x00\\x18tvcn\\x00\\x00\\x00\\x06\\x00b\\x00p\\x00mtvcw\\x00\\x00\\x00\\x02\\x000ovct\\x00\\x00\\x00\\x1ctvcn\\x00\\x00\\x00\\n\\x00a\\x00l\\x00b\\x00u\\x00mtvcw\\x00\\x00\\x00\\x02\\x000ovct\\x00\\x00\\x00\\x1etvcn\\x00\\x00\\x00\\x0c\\x00l\\x00e\\x00n\\x00g\\x00t\\x00htvcw\\x00\\x00\\x00\\x02\\x000ovct\\x00\\x00\\x00 tvcn\\x00\\x00\\x00\\x0e\\x00c\\x00o\\x00m\\x00m\\x00e\\x00n\\x00ttvcw\\x00\\x00\\x00\\x02\\x000otrk\\x00\\x00\\x00\\xaeptrk\\x00\\x00\\x00\\xa6\\x00U\\x00s\\x00e\\x00r\\x00s\\x00/\\x00a\\x00f\\x004\\x001\\x002\\x00/\\x00D\\x00o\\x00w\\x00n\\x00l\\x00o\\x00a\\x00d\\x00s\\x00/\\x00m\\x00u\\x00s\\x00i\\x00c\\x00d\\x00u\\x00m\\x00p\\x00/\\x001\\x002\\x00 \\x00G\\x00u\\x00a\\x00g\\x00e\\x00/\\x00U\\x00n\\x00k\\x00n\\x00o\\x00w\\x00n\\x00 \\x00A\\x00l\\x00b\\x00u\\x00m\\x00/\\x00D\\x00o\\x00n\\x00k\\x00e\\x00y\\x00 \\x00B\\x00u\\x00t\\x00t\\x00 \\x00M\\x00A\\x00K\\x00E\\x00 \\x00A\\x00N\\x00 \\x00E\\x00D\\x00I\\x00T\\x00.\\x00m\\x00p\\x003otrk\\x00\\x00\\x01\\x14ptrk\\x00\\x00\\x01\\x0c\\x00U\\x00s\\x00e\\x00r\\x00s\\x00/\\x00a\\x00f\\x004\\x001\\x002\\x00/\\x00M\\x00u\\x00s\\x00i\\x00c\\x00/\\x00M\\x00u\\x00s\\x00i\\x00c\\x00/\\x00M\\x00e\\x00d\\x00i\\x00a\\x00/\\x00M\\x00u\\x00s\\x00i\\x00c\\x00/\\x00C\\x00o\\x00m\\x00p\\x00i\\x00l\\x00a\\x00t\\x00i\\x00o\\x00n\\x00s\\x00/\\x00G\\x00h\\x00e\\x00t\\x00t\\x00o\\x00u\\x00t\\x00_\\x00 \\x00F\\x00u\\x00n\\x00e\\x00r\\x00a\\x00l\\x00s\\x00 \\x00&\\x00 \\x00C\\x00o\\x00u\\x00r\\x00t\\x00 \\x00D\\x00a\\x00t\\x00e\\x00s\\x00 \\x002\\x00/\\x000\\x003\\x00 \\x00S\\x00B\\x004\\x00L\\x00i\\x00f\\x00e\\x00 \\x00f\\x00e\\x00a\\x00t\\x00.\\x00 \\x00D\\x00o\\x00n\\x00 \\x00T\\x00r\\x00i\\x00p\\x00 \\x00(\\x00P\\x00r\\x00o\\x00d\\x00.\\x00 \\x00b\\x00y\\x00 \\x00T\\x00a\\x00y\\x00 \\x00K\\x00e\\x00i\\x00t\\x00h\\x00)\\x00.\\x00m\\x00p\\x003otrk\\x00\\x00\\x01\\nptrk\\x00\\x00\\x01\\x02\\x00U\\x00s\\x00e\\x00r\\x00s\\x00/\\x00a\\x00f\\x004\\x001\\x002\\x00/\\x00M\\x00u\\x00s\\x00i\\x00c\\x00/\\x00M\\x00u\\x00s\\x00i\\x00c\\x00/\\x00M\\x00e\\x00d\\x00i\\x00a\\x00/\\x00M\\x00u\\x00s\\x00i\\x00c\\x00/\\x00C\\x00o\\x00m\\x00p\\x00i\\x00l\\x00a\\x00t\\x00i\\x00o\\x00n\\x00s\\x00/\\x00G\\x00h\\x00e\\x00t\\x00t\\x00o\\x00u\\x00t\\x00_\\x00 \\x00F\\x00u\\x00n\\x00e\\x00r\\x00a\\x00l\\x00s\\x00 \\x00&\\x00 \\x00C\\x00o\\x00u\\x00r\\x00t\\x00 \\x00D\\x00a\\x00t\\x00e\\x00s\\x00 \\x002\\x00/\\x000\\x005\\x00 \\x001\\x000\\x000\\x00,\\x00 \\x00I\\x00 \\x00S\\x00h\\x00u\\x00t\\x00e\\x00 \\x00p\\x00t\\x00.\\x00 \\x002\\x00 \\x00(\\x00P\\x00r\\x00o\\x00d\\x00.\\x00 \\x00b\\x00y\\x00 \\x00B\\x00a\\x00n\\x00d\\x00p\\x00l\\x00a\\x00y\\x00)\\x00.\\x00m\\x00p\\x003otrk\\x00\\x00\\x00\\x92ptrk\\x00\\x00\\x00\\x8a\\x00U\\x00s\\x00e\\x00r\\x00s\\x00/\\x00a\\x00f\\x004\\x001\\x002\\x00/\\x00M\\x00u\\x00s\\x00i\\x00c\\x00/\\x00T\\x00o\\x00r\\x00i\\x00 \\x00A\\x00m\\x00o\\x00s\\x00/\\x00P\\x00r\\x00e\\x00c\\x00i\\x00o\\x00u\\x00s\\x00 \\x00L\\x00i\\x00t\\x00t\\x00l\\x00e\\x00 \\x00D\\x00i\\x00a\\x00m\\x00o\\x00n\\x00d\\x00s\\x00/\\x000\\x009\\x00 \\x00B\\x00u\\x00t\\x00t\\x00e\\x00r\\x00f\\x00l\\x00y\\x00.\\x00m\\x00p\\x003otrk\\x00\\x00\\x00\\x96ptrk\\x00\\x00\\x00\\x8e\\x00U\\x00s\\x00e\\x00r\\x00s\\x00/\\x00a\\x00f\\x004\\x001\\x002\\x00/\\x00M\\x00u\\x00s\\x00i\\x00c\\x00/\\x00T\\x00h\\x00e\\x00 \\x00S\\x00t\\x00r\\x00o\\x00k\\x00e\\x00s\\x00/\\x00R\\x00o\\x00o\\x00m\\x00 \\x00o\\x00n\\x00 \\x00F\\x00i\\x00r\\x00e\\x00/\\x000\\x005\\x00 \\x00Y\\x00o\\x00u\\x00 \\x00T\\x00a\\x00l\\x00k\\x00 \\x00W\\x00a\\x00y\\x00 \\x00T\\x00o\\x00o\\x00 \\x00M\\x00u\\x00c\\x00h\\x00.\\x00m\\x00p\\x003otrk\\x00\\x00\\x00\\xb4ptrk\\x00\\x00\\x00\\xac\\x00U\\x00s\\x00e\\x00r\\x00s\\x00/\\x00a\\x00f\\x004\\x001\\x002\\x00/\\x00M\\x00u\\x00s\\x00i\\x00c\\x00/\\x00C\\x00o\\x00m\\x00p\\x00i\\x00l\\x00a\\x00t\\x00i\\x00o\\x00n\\x00s\\x00/\\x00T\\x00h\\x00e\\x00 \\x00B\\x00i\\x00g\\x00g\\x00e\\x00s\\x00t\\x00 \\x00R\\x00a\\x00g\\x00g\\x00a\\x00 \\x00D\\x00a\\x00n\\x00c\\x00e\\x00h\\x00a\\x00l\\x00l\\x00 \\x00A\\x00n\\x00t\\x00h\\x00e\\x00m\\x00s\\x00 \\x002\\x000\\x000\\x000\\x00/\\x003\\x004\\x00 \\x00B\\x00u\\x00s\\x00t\\x00 \\x00I\\x00t\\x00.\\x00m\\x00p\\x003otrk\\x00\\x00\\x00vptrk\\x00\\x00\\x00n\\x00U\\x00s\\x00e\\x00r\\x00s\\x00/\\x00a\\x00f\\x004\\x001\\x002\\x00/\\x00M\\x00u\\x00s\\x00i\\x00c\\x00/\\x002\\x001\\x00 \\x00S\\x00a\\x00v\\x00a\\x00g\\x00e\\x00/\\x00I\\x00s\\x00s\\x00a\\x00 \\x00A\\x00l\\x00b\\x00u\\x00m\\x00/\\x000\\x006\\x00 \\x00T\\x00h\\x00u\\x00g\\x00 \\x00L\\x00i\\x00f\\x00e\\x00.\\x00m\\x00p\\x003otrk\\x00\\x00\\x00zptrk\\x00\\x00\\x00r\\x00U\\x00s\\x00e\\x00r\\x00s\\x00/\\x00a\\x00f\\x004\\x001\\x002\\x00/\\x00M\\x00u\\x00s\\x00i\\x00c\\x00/\\x00A\\x00d\\x00d\\x00i\\x00s\\x00o\\x00n\\x00 \\x00G\\x00r\\x00o\\x00o\\x00v\\x00e\\x00/\\x00D\\x00u\\x00m\\x00b\\x00s\\x00h\\x00i\\x00t\\x00/\\x000\\x000\\x00 \\x00D\\x00u\\x00m\\x00b\\x00s\\x00h\\x00i\\x00t\\x00.\\x00m\\x00p\\x003'"
     ]
    }
   ],
   "source": [
    "c = Crate(open(crate_path, 'rb').read())"
   ]
  },
  {
   "cell_type": "code",
   "execution_count": 1,
   "id": "e937b0dc",
   "metadata": {},
   "outputs": [],
   "source": [
    "#serato-lib\n",
    "\n",
    "import mmap\n",
    "import struct"
   ]
  },
  {
   "cell_type": "code",
   "execution_count": 73,
   "id": "6b390eb1",
   "metadata": {},
   "outputs": [],
   "source": [
    "TAG_DEFAULTS = {\n",
    "        'ovct' : '\\x00\\x00\\x00\\x1c', # ???\n",
    "        'brev' : 0x00, # ???\n",
    "        'tvcw' : '\\x00\\x00\\x00\\x02\\x000', # column width\n",
    "        }"
   ]
  },
  {
   "cell_type": "code",
   "execution_count": 23,
   "id": "13317f89",
   "metadata": {},
   "outputs": [],
   "source": [
    "def read_tag(tag): \n",
    "\n",
    "    currpos = sslmap.tell()\n",
    "    foundtag =  sslmap.read(len(tag))\n",
    "\n",
    "    if foundtag == tag:\n",
    "        return True\n",
    "    else:\n",
    "        sslmap.seek(currpos)\n",
    "        \n",
    "def read_bytes(numbytes):\n",
    "    \"\"\" Reads a variable length of bytes from the mself.ssldb \"\"\"\n",
    "\n",
    "    return sslmap.read(numbytes)\n",
    "\n",
    "def readvarlenstr(pad=4):\n",
    "    \"\"\" Reads and parses a variable length string field \"\"\"\n",
    "\n",
    "    varlen = sslmap.read(pad)\n",
    "    varlen = struct.unpack(\">L\", varlen)\n",
    "    return sslmap.read(varlen[0])\n",
    "\n",
    "class SSLCrateError(Exception):\n",
    "    pass"
   ]
  },
  {
   "cell_type": "code",
   "execution_count": 26,
   "id": "81b90382",
   "metadata": {},
   "outputs": [],
   "source": [
    "# db_path = \"/Users/af412/Music/_Serato_/database V2\"\n",
    "crate_path = \"/Users/af412/Music/_Serato_/Subcrates/Unknown Album.crate\"\n",
    "f = open(crate_path, \"r+b\")\n",
    "sslmap = mmap.mmap(f.fileno(), 0)"
   ]
  },
  {
   "cell_type": "code",
   "execution_count": 27,
   "id": "670132b4",
   "metadata": {},
   "outputs": [
    {
     "data": {
      "text/plain": [
       "b'vrsn\\x00\\x00\\x008\\x001\\x00.\\x000\\x00/\\x00S\\x00e\\x00r\\x00a\\x00t\\x00o\\x00 \\x00S\\x00c\\x00r\\x00a\\x00t\\x00c\\x00h\\x00L\\x00i\\x00v\\x00e\\x00 \\x00C\\x00r\\x00a'"
      ]
     },
     "execution_count": 27,
     "metadata": {},
     "output_type": "execute_result"
    }
   ],
   "source": [
    "sslmap.read(60)"
   ]
  },
  {
   "cell_type": "code",
   "execution_count": null,
   "id": "e8bb0cc6",
   "metadata": {},
   "outputs": [],
   "source": [
    "sslmap"
   ]
  },
  {
   "cell_type": "code",
   "execution_count": 25,
   "id": "862b98ac",
   "metadata": {},
   "outputs": [
    {
     "ename": "SSLCrateError",
     "evalue": "Unexpected binary file format, unable to parse",
     "output_type": "error",
     "traceback": [
      "\u001b[0;31m---------------------------------------------------------------------------\u001b[0m",
      "\u001b[0;31mSSLCrateError\u001b[0m                             Traceback (most recent call last)",
      "Input \u001b[0;32mIn [25]\u001b[0m, in \u001b[0;36m<cell line: 3>\u001b[0;34m()\u001b[0m\n\u001b[1;32m     53\u001b[0m         crate[\u001b[38;5;124m'\u001b[39m\u001b[38;5;124mtracks\u001b[39m\u001b[38;5;124m'\u001b[39m][\u001b[38;5;241m-\u001b[39m\u001b[38;5;241m1\u001b[39m]\u001b[38;5;241m.\u001b[39mupdate({\u001b[38;5;124m'\u001b[39m\u001b[38;5;124mptrk\u001b[39m\u001b[38;5;124m'\u001b[39m: ptrk})\n\u001b[1;32m     54\u001b[0m \u001b[38;5;28;01melse\u001b[39;00m:\n\u001b[0;32m---> 55\u001b[0m     \u001b[38;5;28;01mraise\u001b[39;00m SSLCrateError(\u001b[38;5;124m\"\u001b[39m\u001b[38;5;124mUnexpected binary file format, unable to parse\u001b[39m\u001b[38;5;124m\"\u001b[39m)\n",
      "\u001b[0;31mSSLCrateError\u001b[0m: Unexpected binary file format, unable to parse"
     ]
    }
   ],
   "source": [
    "crate = {}\n",
    "\n",
    "while (sslmap.tell() < sslmap.size()):\n",
    "\n",
    "    # read VRSN header data\n",
    "    if read_tag('vrsn'):\n",
    "        vrsn = read_bytes(60)\n",
    "        crate['vrsn'] = vrsn\n",
    "\n",
    "    # handle column sorting tags\n",
    "    elif read_tag('osrt'):\n",
    "        osrt = read_bytes(4)\n",
    "        crate['sort'] = {'osrt': osrt}\n",
    "\n",
    "        # read sorted column name header\n",
    "        if read_tag('tvcn'):\n",
    "            tvcn = readvarlenstr()\n",
    "            crate['sort'].update({'tvcn': tvcn})\n",
    "\n",
    "        if read_tag('brev'):\n",
    "            brev = read_bytes(5)\n",
    "            crate['sort'].update({'brev': brev})\n",
    "\n",
    "    # read in the remaining available column data.\n",
    "    elif read_tag('ovct'):\n",
    "        ovct = read_bytes(4)\n",
    "        try:\n",
    "            crate['columns'].append({'ovct': ovct}) \n",
    "        except KeyError:\n",
    "            crate['columns'] = [{'ovct': ovct}]\n",
    "\n",
    "        if read_tag('tvcn'):\n",
    "            tvcn = readvarlenstr()\n",
    "            crate['columns'][-1].update({'tvcn': tvcn})\n",
    "\n",
    "        if read_tag('tvcw'):\n",
    "            tvcw = read_bytes(6)\n",
    "            crate['columns'][-1].update({'tvcw': tvcw})\n",
    "\n",
    "    # parse track data.\n",
    "    elif read_tag('otrk'):\n",
    "        otrk = read_bytes(4)\n",
    "        tracksize = struct.unpack(\">L\", otrk)\n",
    "\n",
    "        try:\n",
    "            crate['tracks'].append({'otrk': otrk})\n",
    "        except KeyError:\n",
    "            crate['tracks'] = [{'otrk': otrk}]\n",
    "\n",
    "        if self._read_tag('ptrk'):\n",
    "            sslmap.read(4)\n",
    "            ptrk = read_bytes(tracksize[0] - 8)\n",
    "            crate['tracks'][-1].update({'ptrk': ptrk})\n",
    "    else:\n",
    "        raise SSLCrateError(\"Unexpected binary file format, unable to parse\")\n"
   ]
  },
  {
   "cell_type": "code",
   "execution_count": 29,
   "id": "5a819b5d",
   "metadata": {},
   "outputs": [
    {
     "data": {
      "text/plain": [
       "'vrsn'"
      ]
     },
     "execution_count": 29,
     "metadata": {},
     "output_type": "execute_result"
    }
   ],
   "source": [
    "i=0\n",
    "sslmap[i:i+4].decode('ascii')"
   ]
  },
  {
   "cell_type": "code",
   "execution_count": 31,
   "id": "83ba4d57",
   "metadata": {},
   "outputs": [
    {
     "data": {
      "text/plain": [
       "56"
      ]
     },
     "execution_count": 31,
     "metadata": {},
     "output_type": "execute_result"
    }
   ],
   "source": [
    "struct.unpack('>I', sslmap[i+4:i+8])[0]"
   ]
  },
  {
   "cell_type": "code",
   "execution_count": 36,
   "id": "41c78bed",
   "metadata": {},
   "outputs": [
    {
     "data": {
      "text/plain": [
       "'1.0/Serato ScratchLive Crate'"
      ]
     },
     "execution_count": 36,
     "metadata": {},
     "output_type": "execute_result"
    }
   ],
   "source": [
    "sslmap[i+8:i+8+56].decode('utf-16-be')"
   ]
  },
  {
   "cell_type": "code",
   "execution_count": 53,
   "id": "310c42f1",
   "metadata": {},
   "outputs": [],
   "source": [
    "class CrateDecoder:\n",
    "    def __init__(self):\n",
    "        self.DECODE_FUNC_FULL = {\n",
    "            None: self.decode_struct,\n",
    "            'vrsn': self.decode_unicode,\n",
    "            'sbav': self.noop,\n",
    "        }\n",
    "        \n",
    "        self.DECODE_FUNC_FIRST = {\n",
    "            'o': self.decode_struct,\n",
    "            't': self.decode_unicode,\n",
    "            'p': self.decode_unicode,\n",
    "            'u': self.decode_unsigned,\n",
    "            'b': self.noop,\n",
    "        }\n",
    "        return\n",
    "    \n",
    "    def load_crate(self, path):\n",
    "        data = open(path, 'rb').read()\n",
    "        self.crate_data = self.decode(data)\n",
    "        return self.crate_data\n",
    "    \n",
    "    def decode(self, data, tag=None, reverse=False):\n",
    "        if not tag:\n",
    "            func = self.decode_struct\n",
    "        else:\n",
    "            func = self.get_func(tag)\n",
    "        return func(data, reverse=reverse)\n",
    "    \n",
    "    def get_func(self, tag):\n",
    "        try:\n",
    "            return self.DECODE_FUNC_FULL[tag]\n",
    "        except KeyError:\n",
    "            return self.DECODE_FUNC_FIRST[tag[0]]\n",
    "        \n",
    "    def decode_struct(self, data, reverse=False):\n",
    "        if reverse:\n",
    "            ret_data = bytes()\n",
    "            for dat in data:\n",
    "                tag = dat[0]\n",
    "                value = self.decode(dat[1], tag=tag, reverse=reverse)\n",
    "                length = struct.pack('>I', len(value))\n",
    "                ret_data = ret_data + tag.encode('utf-8') + length + value\n",
    "\n",
    "            return ret_data\n",
    "\n",
    "        ret = []\n",
    "        i = 0\n",
    "        while i < len(data):\n",
    "            j = i+4\n",
    "            k = i+8\n",
    "            print(f\"i = {i}\")\n",
    "            tag = data[i:j].decode('ascii')\n",
    "            print('tag:', tag)\n",
    "            length = struct.unpack('>I', data[j:k])[0]\n",
    "            value = data[k:k+length]\n",
    "            value = self.decode(value, tag=tag)\n",
    "            print(\"value:\", value)\n",
    "            ret.append((tag, value))\n",
    "            i += 8 + length\n",
    "        return ret\n",
    "\n",
    "    def decode_unicode(self, data, reverse=False):\n",
    "        print('func: unicode ' + str(reverse))\n",
    "        if reverse:\n",
    "            return data.encode('utf-16-be')\n",
    "\n",
    "        return data.decode('utf-16-be')\n",
    "\n",
    "\n",
    "    def decode_unsigned(self, data, reverse=False):\n",
    "        print('func: unsigned ' + str(reverse))\n",
    "        if reverse:\n",
    "            return struct.pack('>I', data)\n",
    "\n",
    "        return struct.unpack('>I', data)[0]\n",
    "\n",
    "\n",
    "    def noop(self, data, reverse=False):\n",
    "        print('func: noop ' + str(reverse))\n",
    "        if reverse and isinstance(data, str):\n",
    "            return data.encode('utf-8')\n",
    "        else:\n",
    "            return data"
   ]
  },
  {
   "cell_type": "markdown",
   "id": "86427d69",
   "metadata": {},
   "source": [
    "- ovct: crate header\n",
    "- osrt: crate sort?\n",
    "- tvcn: crate column\n",
    "- tvcw: column width (?)\n",
    "- ptrk: file name\n",
    "- otrk:"
   ]
  },
  {
   "cell_type": "code",
   "execution_count": 57,
   "id": "d8ceff26",
   "metadata": {},
   "outputs": [],
   "source": [
    "crate_path = \"/Users/af412/Music/_Serato_/Subcrates/Scaramanga- Seven Horns, Seven Eyes.crate\""
   ]
  },
  {
   "cell_type": "code",
   "execution_count": 58,
   "id": "9773294b",
   "metadata": {},
   "outputs": [],
   "source": [
    "c = CrateDecoder()"
   ]
  },
  {
   "cell_type": "code",
   "execution_count": 59,
   "id": "89c70e18",
   "metadata": {},
   "outputs": [
    {
     "name": "stdout",
     "output_type": "stream",
     "text": [
      "i = 0\n",
      "tag: vrsn\n",
      "func: unicode False\n",
      "value: 1.0/Serato ScratchLive Crate\n",
      "i = 64\n",
      "tag: otrk\n",
      "i = 0\n",
      "tag: ptrk\n",
      "func: unicode False\n",
      "value: Users/af412/Documents/Scaramanga- Seven Horns, Seven Eyes/11 - Scaramanga - Death Letter.mp3\n",
      "value: [('ptrk', 'Users/af412/Documents/Scaramanga- Seven Horns, Seven Eyes/11 - Scaramanga - Death Letter.mp3')]\n",
      "i = 264\n",
      "tag: otrk\n",
      "i = 0\n",
      "tag: ptrk\n",
      "func: unicode False\n",
      "value: Users/af412/Documents/Scaramanga- Seven Horns, Seven Eyes/16 - Scaramanga - Mind i c Mine.mp3\n",
      "value: [('ptrk', 'Users/af412/Documents/Scaramanga- Seven Horns, Seven Eyes/16 - Scaramanga - Mind i c Mine.mp3')]\n",
      "i = 466\n",
      "tag: otrk\n",
      "i = 0\n",
      "tag: ptrk\n",
      "func: unicode False\n",
      "value: Users/af412/Documents/Scaramanga- Seven Horns, Seven Eyes/02 - Scaramanga - Shallah Magnetic.mp3\n",
      "value: [('ptrk', 'Users/af412/Documents/Scaramanga- Seven Horns, Seven Eyes/02 - Scaramanga - Shallah Magnetic.mp3')]\n",
      "i = 674\n",
      "tag: otrk\n",
      "i = 0\n",
      "tag: ptrk\n",
      "func: unicode False\n",
      "value: Users/af412/Documents/Scaramanga- Seven Horns, Seven Eyes/15 - Scaramanga - Death Letter Remix featuring Scholarwise.mp3\n",
      "value: [('ptrk', 'Users/af412/Documents/Scaramanga- Seven Horns, Seven Eyes/15 - Scaramanga - Death Letter Remix featuring Scholarwise.mp3')]\n",
      "i = 930\n",
      "tag: otrk\n",
      "i = 0\n",
      "tag: ptrk\n",
      "func: unicode False\n",
      "value: Users/af412/Documents/Scaramanga- Seven Horns, Seven Eyes/12 - Scaramanga - Suga 99 Remix.mp3\n",
      "value: [('ptrk', 'Users/af412/Documents/Scaramanga- Seven Horns, Seven Eyes/12 - Scaramanga - Suga 99 Remix.mp3')]\n",
      "i = 1132\n",
      "tag: otrk\n",
      "i = 0\n",
      "tag: ptrk\n",
      "func: unicode False\n",
      "value: Users/af412/Documents/Scaramanga- Seven Horns, Seven Eyes/07 - Scaramanga - Seven Eyes, Seven Horns.mp3\n",
      "value: [('ptrk', 'Users/af412/Documents/Scaramanga- Seven Horns, Seven Eyes/07 - Scaramanga - Seven Eyes, Seven Horns.mp3')]\n",
      "i = 1354\n",
      "tag: otrk\n",
      "i = 0\n",
      "tag: ptrk\n",
      "func: unicode False\n",
      "value: Users/af412/Documents/Scaramanga- Seven Horns, Seven Eyes/10 - Scaramanga - 7XL.mp3\n",
      "value: [('ptrk', 'Users/af412/Documents/Scaramanga- Seven Horns, Seven Eyes/10 - Scaramanga - 7XL.mp3')]\n",
      "i = 1536\n",
      "tag: otrk\n",
      "i = 0\n",
      "tag: ptrk\n",
      "func: unicode False\n",
      "value: Users/af412/Documents/Scaramanga- Seven Horns, Seven Eyes/01 - Scaramanga - Sun Large Promo.mp3\n",
      "value: [('ptrk', 'Users/af412/Documents/Scaramanga- Seven Horns, Seven Eyes/01 - Scaramanga - Sun Large Promo.mp3')]\n",
      "i = 1742\n",
      "tag: otrk\n",
      "i = 0\n",
      "tag: ptrk\n",
      "func: unicode False\n",
      "value: Users/af412/Documents/Scaramanga- Seven Horns, Seven Eyes/04 - Scaramanga - Cash Flow.mp3\n",
      "value: [('ptrk', 'Users/af412/Documents/Scaramanga- Seven Horns, Seven Eyes/04 - Scaramanga - Cash Flow.mp3')]\n",
      "i = 1936\n",
      "tag: otrk\n",
      "i = 0\n",
      "tag: ptrk\n",
      "func: unicode False\n",
      "value: Users/af412/Documents/Scaramanga- Seven Horns, Seven Eyes/09 - Scaramanga - Face It.mp3\n",
      "value: [('ptrk', 'Users/af412/Documents/Scaramanga- Seven Horns, Seven Eyes/09 - Scaramanga - Face It.mp3')]\n",
      "i = 2126\n",
      "tag: otrk\n",
      "i = 0\n",
      "tag: ptrk\n",
      "func: unicode False\n",
      "value: Users/af412/Documents/Scaramanga- Seven Horns, Seven Eyes/13 - Scaramanga - Special Efx featuring Godfather Don.mp3\n",
      "value: [('ptrk', 'Users/af412/Documents/Scaramanga- Seven Horns, Seven Eyes/13 - Scaramanga - Special Efx featuring Godfather Don.mp3')]\n",
      "i = 2372\n",
      "tag: otrk\n",
      "i = 0\n",
      "tag: ptrk\n",
      "func: unicode False\n",
      "value: Users/af412/Documents/Scaramanga- Seven Horns, Seven Eyes/03 - Scaramanga - S.I.R..mp3\n",
      "value: [('ptrk', 'Users/af412/Documents/Scaramanga- Seven Horns, Seven Eyes/03 - Scaramanga - S.I.R..mp3')]\n",
      "i = 2560\n",
      "tag: otrk\n",
      "i = 0\n",
      "tag: ptrk\n",
      "func: unicode False\n",
      "value: Users/af412/Documents/Scaramanga- Seven Horns, Seven Eyes/05 - Scaramanga - Sugar 99.mp3\n",
      "value: [('ptrk', 'Users/af412/Documents/Scaramanga- Seven Horns, Seven Eyes/05 - Scaramanga - Sugar 99.mp3')]\n",
      "i = 2752\n",
      "tag: otrk\n",
      "i = 0\n",
      "tag: ptrk\n",
      "func: unicode False\n",
      "value: Users/af412/Documents/Scaramanga- Seven Horns, Seven Eyes/08 - Scaramanga - Holdin New Cards.mp3\n",
      "value: [('ptrk', 'Users/af412/Documents/Scaramanga- Seven Horns, Seven Eyes/08 - Scaramanga - Holdin New Cards.mp3')]\n",
      "i = 2960\n",
      "tag: otrk\n",
      "i = 0\n",
      "tag: ptrk\n",
      "func: unicode False\n",
      "value: Users/af412/Documents/Scaramanga- Seven Horns, Seven Eyes/06 - Scaramanga - Alphabetic Hammer.mp3\n",
      "value: [('ptrk', 'Users/af412/Documents/Scaramanga- Seven Horns, Seven Eyes/06 - Scaramanga - Alphabetic Hammer.mp3')]\n",
      "i = 3170\n",
      "tag: otrk\n",
      "i = 0\n",
      "tag: ptrk\n",
      "func: unicode False\n",
      "value: Users/af412/Documents/Scaramanga- Seven Horns, Seven Eyes/14 - Scaramanga - Star of the Empire.mp3\n",
      "value: [('ptrk', 'Users/af412/Documents/Scaramanga- Seven Horns, Seven Eyes/14 - Scaramanga - Star of the Empire.mp3')]\n"
     ]
    },
    {
     "data": {
      "text/plain": [
       "[('vrsn', '1.0/Serato ScratchLive Crate'),\n",
       " ('otrk',\n",
       "  [('ptrk',\n",
       "    'Users/af412/Documents/Scaramanga- Seven Horns, Seven Eyes/11 - Scaramanga - Death Letter.mp3')]),\n",
       " ('otrk',\n",
       "  [('ptrk',\n",
       "    'Users/af412/Documents/Scaramanga- Seven Horns, Seven Eyes/16 - Scaramanga - Mind i c Mine.mp3')]),\n",
       " ('otrk',\n",
       "  [('ptrk',\n",
       "    'Users/af412/Documents/Scaramanga- Seven Horns, Seven Eyes/02 - Scaramanga - Shallah Magnetic.mp3')]),\n",
       " ('otrk',\n",
       "  [('ptrk',\n",
       "    'Users/af412/Documents/Scaramanga- Seven Horns, Seven Eyes/15 - Scaramanga - Death Letter Remix featuring Scholarwise.mp3')]),\n",
       " ('otrk',\n",
       "  [('ptrk',\n",
       "    'Users/af412/Documents/Scaramanga- Seven Horns, Seven Eyes/12 - Scaramanga - Suga 99 Remix.mp3')]),\n",
       " ('otrk',\n",
       "  [('ptrk',\n",
       "    'Users/af412/Documents/Scaramanga- Seven Horns, Seven Eyes/07 - Scaramanga - Seven Eyes, Seven Horns.mp3')]),\n",
       " ('otrk',\n",
       "  [('ptrk',\n",
       "    'Users/af412/Documents/Scaramanga- Seven Horns, Seven Eyes/10 - Scaramanga - 7XL.mp3')]),\n",
       " ('otrk',\n",
       "  [('ptrk',\n",
       "    'Users/af412/Documents/Scaramanga- Seven Horns, Seven Eyes/01 - Scaramanga - Sun Large Promo.mp3')]),\n",
       " ('otrk',\n",
       "  [('ptrk',\n",
       "    'Users/af412/Documents/Scaramanga- Seven Horns, Seven Eyes/04 - Scaramanga - Cash Flow.mp3')]),\n",
       " ('otrk',\n",
       "  [('ptrk',\n",
       "    'Users/af412/Documents/Scaramanga- Seven Horns, Seven Eyes/09 - Scaramanga - Face It.mp3')]),\n",
       " ('otrk',\n",
       "  [('ptrk',\n",
       "    'Users/af412/Documents/Scaramanga- Seven Horns, Seven Eyes/13 - Scaramanga - Special Efx featuring Godfather Don.mp3')]),\n",
       " ('otrk',\n",
       "  [('ptrk',\n",
       "    'Users/af412/Documents/Scaramanga- Seven Horns, Seven Eyes/03 - Scaramanga - S.I.R..mp3')]),\n",
       " ('otrk',\n",
       "  [('ptrk',\n",
       "    'Users/af412/Documents/Scaramanga- Seven Horns, Seven Eyes/05 - Scaramanga - Sugar 99.mp3')]),\n",
       " ('otrk',\n",
       "  [('ptrk',\n",
       "    'Users/af412/Documents/Scaramanga- Seven Horns, Seven Eyes/08 - Scaramanga - Holdin New Cards.mp3')]),\n",
       " ('otrk',\n",
       "  [('ptrk',\n",
       "    'Users/af412/Documents/Scaramanga- Seven Horns, Seven Eyes/06 - Scaramanga - Alphabetic Hammer.mp3')]),\n",
       " ('otrk',\n",
       "  [('ptrk',\n",
       "    'Users/af412/Documents/Scaramanga- Seven Horns, Seven Eyes/14 - Scaramanga - Star of the Empire.mp3')])]"
      ]
     },
     "execution_count": 59,
     "metadata": {},
     "output_type": "execute_result"
    }
   ],
   "source": [
    "c.load_crate(crate_path)"
   ]
  },
  {
   "cell_type": "code",
   "execution_count": 60,
   "id": "3f86f2aa",
   "metadata": {},
   "outputs": [
    {
     "name": "stdout",
     "output_type": "stream",
     "text": [
      "('vrsn', '1.0/Serato ScratchLive Crate')\n",
      "('osrt', [('tvcn', '#'), ('brev', b'\\x00')])\n",
      "('ovct', [('tvcn', 'song'), ('tvcw', '0')])\n",
      "('ovct', [('tvcn', 'playCount'), ('tvcw', '0')])\n",
      "('ovct', [('tvcn', 'artist'), ('tvcw', '0')])\n",
      "('ovct', [('tvcn', 'bpm'), ('tvcw', '0')])\n",
      "('ovct', [('tvcn', 'album'), ('tvcw', '0')])\n",
      "('ovct', [('tvcn', 'length'), ('tvcw', '0')])\n",
      "('ovct', [('tvcn', 'comment'), ('tvcw', '0')])\n",
      "('otrk', [('ptrk', 'Users/af412/Downloads/musicdump/12 Guage/Unknown Album/Donkey Butt MAKE AN EDIT.mp3')])\n",
      "('otrk', [('ptrk', 'Users/af412/Music/Music/Media/Music/Compilations/Ghettout_ Funerals & Court Dates 2/03 SB4Life feat. Don Trip (Prod. by Tay Keith).mp3')])\n",
      "('otrk', [('ptrk', 'Users/af412/Music/Music/Media/Music/Compilations/Ghettout_ Funerals & Court Dates 2/05 100, I Shute pt. 2 (Prod. by Bandplay).mp3')])\n",
      "('otrk', [('ptrk', 'Users/af412/Music/Tori Amos/Precious Little Diamonds/09 Butterfly.mp3')])\n",
      "('otrk', [('ptrk', 'Users/af412/Music/The Strokes/Room on Fire/05 You Talk Way Too Much.mp3')])\n",
      "('otrk', [('ptrk', 'Users/af412/Music/Compilations/The Biggest Ragga Dancehall Anthems 2000/34 Bust It.mp3')])\n",
      "('otrk', [('ptrk', 'Users/af412/Music/21 Savage/Issa Album/06 Thug Life.mp3')])\n",
      "('otrk', [('ptrk', 'Users/af412/Music/Addison Groove/Dumbshit/00 Dumbshit.mp3')])\n"
     ]
    }
   ],
   "source": [
    "for i in c.crate_data:\n",
    "    print(i)"
   ]
  },
  {
   "cell_type": "code",
   "execution_count": 47,
   "id": "91dbc14c",
   "metadata": {},
   "outputs": [],
   "source": [
    "def decode(data, tag=None, reverse=False):\n",
    "    if tag in DECODE_FUNC_FULL:\n",
    "        decode_func = DECODE_FUNC_FULL[tag]\n",
    "    else:\n",
    "        decode_func = DECODE_FUNC_FIRST[tag[0]]\n",
    "\n",
    "    return decode_func(data, reverse=reverse)\n",
    "\n",
    "def decode_struct(data, reverse=False):\n",
    "    if reverse:\n",
    "        ret_data = bytes()\n",
    "        for dat in data:\n",
    "            tag = dat[0]\n",
    "            value = decode(dat[1], tag=tag, reverse=reverse)\n",
    "            length = struct.pack('>I', len(value))\n",
    "            ret_data = ret_data + tag.encode('utf-8') + length + value\n",
    "\n",
    "        return ret_data\n",
    "\n",
    "\n",
    "    ret = []\n",
    "    i = 0\n",
    "    while i < len(data):\n",
    "        tag = data[i:i+4].decode('ascii')\n",
    "        length = struct.unpack('>I', data[i+4:i+8])[0]\n",
    "        value = data[i+8:i+8+length]\n",
    "        value = decode(value, tag=tag)\n",
    "        ret.append((tag, value))\n",
    "        i += 8 + length\n",
    "    return ret\n",
    "\n",
    "def decode_unicode(data, reverse=False):\n",
    "    if reverse:\n",
    "        return data.encode('utf-16-be')\n",
    "\n",
    "    return data.decode('utf-16-be')\n",
    "\n",
    "\n",
    "def decode_unsigned(data, reverse=False):\n",
    "    if reverse:\n",
    "        return struct.pack('>I', data)\n",
    "\n",
    "    return struct.unpack('>I', data)[0]\n",
    "\n",
    "\n",
    "def noop(data, reverse=False):\n",
    "    if reverse and isinstance(data, str):\n",
    "        return data.encode('utf-8')\n",
    "    else:\n",
    "        return data\n",
    "\n",
    "\n",
    "DECODE_FUNC_FULL = {\n",
    "    None: decode_struct,\n",
    "    'vrsn': decode_unicode,\n",
    "    'sbav': noop,\n",
    "}\n",
    "\n",
    "\n",
    "DECODE_FUNC_FIRST = {\n",
    "    'o': decode_struct,\n",
    "    't': decode_unicode,\n",
    "    'p': decode_unicode,\n",
    "    'u': decode_unsigned,\n",
    "    'b': noop,\n",
    "}\n"
   ]
  },
  {
   "cell_type": "code",
   "execution_count": 48,
   "id": "f3c50894",
   "metadata": {},
   "outputs": [],
   "source": [
    "path = \"/Users/af412/Music/_Serato_/Subcrates/Unknown Album.crate\""
   ]
  },
  {
   "cell_type": "code",
   "execution_count": 19,
   "id": "d084d241",
   "metadata": {},
   "outputs": [],
   "source": [
    "c = open(path, 'rb').read()"
   ]
  },
  {
   "cell_type": "code",
   "execution_count": 20,
   "id": "359751dd",
   "metadata": {},
   "outputs": [],
   "source": [
    "ret_data = bytes()"
   ]
  },
  {
   "cell_type": "code",
   "execution_count": 21,
   "id": "8d739e7e",
   "metadata": {},
   "outputs": [
    {
     "data": {
      "text/plain": [
       "114"
      ]
     },
     "execution_count": 21,
     "metadata": {},
     "output_type": "execute_result"
    }
   ],
   "source": [
    "c[1]"
   ]
  },
  {
   "cell_type": "code",
   "execution_count": 22,
   "id": "ec4fa93d",
   "metadata": {},
   "outputs": [],
   "source": [
    "data = decode(c)"
   ]
  },
  {
   "cell_type": "code",
   "execution_count": 24,
   "id": "ddb939c0",
   "metadata": {},
   "outputs": [
    {
     "data": {
      "text/plain": [
       "('vrsn', '1.0/Serato ScratchLive Crate')"
      ]
     },
     "execution_count": 24,
     "metadata": {},
     "output_type": "execute_result"
    }
   ],
   "source": [
    "data[0]"
   ]
  },
  {
   "cell_type": "code",
   "execution_count": 31,
   "id": "43724cb4",
   "metadata": {},
   "outputs": [
    {
     "data": {
      "text/plain": [
       "[('vrsn', '1.0/Serato ScratchLive Crate'),\n",
       " ('osrt', [('tvcn', '#'), ('brev', b'\\x00')]),\n",
       " ('ovct', [('tvcn', 'song'), ('tvcw', '0')]),\n",
       " ('ovct', [('tvcn', 'playCount'), ('tvcw', '0')]),\n",
       " ('ovct', [('tvcn', 'artist'), ('tvcw', '0')]),\n",
       " ('ovct', [('tvcn', 'bpm'), ('tvcw', '0')]),\n",
       " ('ovct', [('tvcn', 'album'), ('tvcw', '0')]),\n",
       " ('ovct', [('tvcn', 'length'), ('tvcw', '0')]),\n",
       " ('ovct', [('tvcn', 'comment'), ('tvcw', '0')]),\n",
       " ('otrk',\n",
       "  [('ptrk',\n",
       "    'Users/af412/Downloads/musicdump/12 Guage/Unknown Album/Donkey Butt MAKE AN EDIT.mp3')]),\n",
       " ('otrk',\n",
       "  [('ptrk',\n",
       "    'Users/af412/Music/Music/Media/Music/Compilations/Ghettout_ Funerals & Court Dates 2/03 SB4Life feat. Don Trip (Prod. by Tay Keith).mp3')]),\n",
       " ('otrk',\n",
       "  [('ptrk',\n",
       "    'Users/af412/Music/Music/Media/Music/Compilations/Ghettout_ Funerals & Court Dates 2/05 100, I Shute pt. 2 (Prod. by Bandplay).mp3')]),\n",
       " ('otrk',\n",
       "  [('ptrk',\n",
       "    'Users/af412/Music/Tori Amos/Precious Little Diamonds/09 Butterfly.mp3')]),\n",
       " ('otrk',\n",
       "  [('ptrk',\n",
       "    'Users/af412/Music/The Strokes/Room on Fire/05 You Talk Way Too Much.mp3')]),\n",
       " ('otrk',\n",
       "  [('ptrk',\n",
       "    'Users/af412/Music/Compilations/The Biggest Ragga Dancehall Anthems 2000/34 Bust It.mp3')]),\n",
       " ('otrk',\n",
       "  [('ptrk', 'Users/af412/Music/21 Savage/Issa Album/06 Thug Life.mp3')]),\n",
       " ('otrk',\n",
       "  [('ptrk', 'Users/af412/Music/Addison Groove/Dumbshit/00 Dumbshit.mp3')])]"
      ]
     },
     "execution_count": 31,
     "metadata": {},
     "output_type": "execute_result"
    }
   ],
   "source": [
    "data"
   ]
  },
  {
   "cell_type": "code",
   "execution_count": null,
   "id": "2b231325",
   "metadata": {},
   "outputs": [],
   "source": []
  }
 ],
 "metadata": {
  "kernelspec": {
   "display_name": "Python 3 (ipykernel)",
   "language": "python",
   "name": "python3"
  },
  "language_info": {
   "codemirror_mode": {
    "name": "ipython",
    "version": 3
   },
   "file_extension": ".py",
   "mimetype": "text/x-python",
   "name": "python",
   "nbconvert_exporter": "python",
   "pygments_lexer": "ipython3",
   "version": "3.10.4"
  }
 },
 "nbformat": 4,
 "nbformat_minor": 5
}
